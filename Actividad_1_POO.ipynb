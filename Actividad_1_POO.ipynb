{
  "nbformat": 4,
  "nbformat_minor": 0,
  "metadata": {
    "colab": {
      "provenance": [],
      "include_colab_link": true
    },
    "kernelspec": {
      "name": "python3",
      "display_name": "Python 3"
    },
    "language_info": {
      "name": "python"
    }
  },
  "cells": [
    {
      "cell_type": "markdown",
      "metadata": {
        "id": "view-in-github",
        "colab_type": "text"
      },
      "source": [
        "<a href=\"https://colab.research.google.com/github/yamidur/POO-2025_2/blob/main/Actividad_1_POO.ipynb\" target=\"_parent\"><img src=\"https://colab.research.google.com/assets/colab-badge.svg\" alt=\"Open In Colab\"/></a>"
      ]
    },
    {
      "cell_type": "markdown",
      "source": [
        "**Ejercicio Resuelto No 4**\n",
        "\n",
        "A la mamá de Juan le preguntan su edad, y contesta: tengo 3 hijos, pregúntele a Juan su edad. Alberto tiene 2/3 de la edad de Juan, Ana tiene 4/3 de la edad de Juan y mi edad es la suma de las tres. Hacer un algoritmo que muestre la edad de los cuatro.\n"
      ],
      "metadata": {
        "id": "0pmvKQSu-EhQ"
      }
    },
    {
      "cell_type": "code",
      "source": [
        "class Calculos:\n",
        "\n",
        "  def edadAlberto(edadJuan):\n",
        "    edadAlberto = 2 * (edadJuan / 3)\n",
        "    return edadAlberto\n",
        "\n",
        "  def edadAna(edadJuan):\n",
        "    edadAna = 4 * (edadJuan / 3)\n",
        "    return edadAna\n",
        "\n",
        "  def edadMama(edadJuan, edadAlberto, edadAna):\n",
        "    edadMama = edadJuan + edadAlberto + edadAna\n",
        "    return edadMama\n",
        "\n",
        "def edadTodos(edadJuan):\n",
        "  edadAlberto = Calculos.edadAlberto(edadJuan)\n",
        "  edadAna = Calculos.edadAna(edadJuan)\n",
        "  edadMama = Calculos.edadMama(edadJuan, edadAlberto, edadAna)\n",
        "  print(\"La edad de Juan es\", edadJuan)\n",
        "  print(\"La edad de Alberto es\", edadAlberto)\n",
        "  print(\"La edad de Ana es\", edadAna)\n",
        "  print(\"La edad de Mamá es\", edadMama)\n",
        "\n",
        "edadJuan = int(input(\"Ingrese la edad de Juan: \", ))\n",
        "\n",
        "edadTodos(edadJuan)"
      ],
      "metadata": {
        "colab": {
          "base_uri": "https://localhost:8080/"
        },
        "id": "axg_CMbm-DC4",
        "outputId": "950cae1d-6578-47d0-ab85-580b7b1c72bf"
      },
      "execution_count": null,
      "outputs": [
        {
          "output_type": "stream",
          "name": "stdout",
          "text": [
            "Ingrese la edad de Juan: 9\n",
            "La edad de Juan es 9\n",
            "La edad de Alberto es 6.0\n",
            "La edad de Ana es 12.0\n",
            "La edad de Mamá es 27.0\n"
          ]
        }
      ]
    },
    {
      "cell_type": "markdown",
      "source": [
        "**Ejercicio Resuelto No 5**\n",
        "\n",
        "Hacer un seguimiento (prueba de escritorio) del siguiente grupo de instrucciones.\n",
        "\n",
        "INICIO\n",
        "\n",
        "SUMA = 0\n",
        "\n",
        "X = 20\n",
        "\n",
        "SUMA = SUMA + X\n",
        "\n",
        "Y = 40\n",
        "\n",
        "X = X + Y ** 2\n",
        "\n",
        "SUMA = SUMA + X / Y\n",
        "\n",
        "ESCRIBA: “EL VALOR DE LA SUMA ES:”, SUMA\n",
        "\n",
        "FIN_INICIO"
      ],
      "metadata": {
        "id": "GEtXOsR9-eOX"
      }
    },
    {
      "cell_type": "code",
      "source": [
        "class Operar:\n",
        "  def sumas(X, Y):\n",
        "    SUMA = 0\n",
        "    SUMA = SUMA + X\n",
        "    X = X + Y ** 2\n",
        "    SUMA = SUMA + X / Y\n",
        "    return SUMA\n",
        "\n",
        "X = float(input(\"Ingrese el valor de X: \", ))\n",
        "Y = float(input(\"Ingrese el valor de Y: \", ))\n",
        "resultado = Operar.sumas(X, Y)\n",
        "print(\"EL RESULTADO DE LA SUMA ES: \", resultado)"
      ],
      "metadata": {
        "colab": {
          "base_uri": "https://localhost:8080/"
        },
        "id": "bWinQG09FciK",
        "outputId": "8e043bf0-c343-4ffa-a401-eaa8a0cd3406"
      },
      "execution_count": null,
      "outputs": [
        {
          "output_type": "stream",
          "name": "stdout",
          "text": [
            "Ingrese el valor de X: 5\n",
            "Ingrese el valor de Y: 2\n",
            "EL RESULTADO DE LA SUMA ES:  9.5\n"
          ]
        }
      ]
    },
    {
      "cell_type": "markdown",
      "source": [
        "**Ejercicio Propuesto No 12**\n",
        "\n",
        "Un empleado trabaja 48 horas en la semana a razón de $5.000 hora. El porcentaje de retención en la fuente es del 12,5% del salario bruto. Se desea saber cuál es el salario bruto, la retención en la fuente y el salario neto del trabajador."
      ],
      "metadata": {
        "id": "yE9iw591IXCO"
      }
    },
    {
      "cell_type": "code",
      "source": [
        "class Nomina:\n",
        "\n",
        "  def SalarioBruto(Horas, PrecioHora):\n",
        "    SBruto = Horas * PrecioHora\n",
        "    return SBruto\n",
        "\n",
        "  def ReteFuente(SBruto, porcentaje):\n",
        "    ReteFuente = SBruto * porcentaje\n",
        "    return ReteFuente\n",
        "\n",
        "  def SalarioNeto(SBruto, ReteFuente):\n",
        "    SNeto = SBruto - ReteFuente\n",
        "    return SNeto\n",
        "\n",
        "def Salario(Horas, PrecioHora, porcentaje):\n",
        "    SBruto = Nomina.SalarioBruto(Horas, PrecioHora)\n",
        "    ReteFuente = Nomina.ReteFuente(SBruto, porcentaje)\n",
        "    SNeto = Nomina.SalarioNeto(SBruto, ReteFuente)\n",
        "    print(\"El Salario Bruto es: \", SBruto)\n",
        "    print(\"El Retención en la fuente es: \", ReteFuente)\n",
        "    print(\"El Salario Neto es: \", SNeto)\n",
        "\n",
        "Horas = float(input(\"Indique las horas trabajadas: \", ))\n",
        "PrecioHora = float(input(\"Indique el precio por hora: \", ))\n",
        "porcentaje = float(input(\"Indique el porcentaje de retención en la fuente: \", ))\n",
        "\n",
        "Salario(Horas, PrecioHora, porcentaje)"
      ],
      "metadata": {
        "colab": {
          "base_uri": "https://localhost:8080/"
        },
        "id": "ymLYqmk7KSQw",
        "outputId": "b5253727-c764-4390-9bb9-a1f49855a44d"
      },
      "execution_count": null,
      "outputs": [
        {
          "output_type": "stream",
          "name": "stdout",
          "text": [
            "Indique las horas trabajadas: 15\n",
            "Indique el precio por hora: 1000\n",
            "Indique el porcentaje de retención en la fuente: 0.05\n",
            "El Salario Bruto es:  15000.0\n",
            "El Retención en la fuente es:  750.0\n",
            "El Salario Neto es:  14250.0\n"
          ]
        }
      ]
    },
    {
      "cell_type": "markdown",
      "source": [
        "**Ejercicio Propuesto No 14**\n",
        "\n",
        "Elabore un algoritmo que lea un número y obtenga su cuadrado y su cubo."
      ],
      "metadata": {
        "id": "nZLOCz1AL723"
      }
    },
    {
      "cell_type": "code",
      "source": [
        "class Calculos:\n",
        "\n",
        "  def cuadrado(numero):\n",
        "    cuadrado = numero ** 2\n",
        "    return cuadrado\n",
        "\n",
        "  def cubo(numero):\n",
        "    cubo = numero ** 3\n",
        "    return cubo\n",
        "\n",
        "def Operacion(numero):\n",
        "  cuadrado = Calculos.cuadrado(numero)\n",
        "  cubo = Calculos.cubo(numero)\n",
        "  print(\"El cuadrado de\", numero, \"es\", cuadrado)\n",
        "  print(\"El cubo de\", numero, \"es\", cubo)\n",
        "\n",
        "numero = float(input(\"Inserte un número: \", ))\n",
        "Operacion(numero)\n"
      ],
      "metadata": {
        "id": "ompKFl2vL-J_",
        "colab": {
          "base_uri": "https://localhost:8080/"
        },
        "outputId": "ddd8784a-b968-4950-cacf-38388591676e"
      },
      "execution_count": null,
      "outputs": [
        {
          "output_type": "stream",
          "name": "stdout",
          "text": [
            "Inserte un número: 4\n",
            "El cuadrado de 4.0 es 16.0\n",
            "El cubo de 4.0 es 64.0\n"
          ]
        }
      ]
    },
    {
      "cell_type": "markdown",
      "source": [
        "**Ejercicio Propuesto No 17**\n",
        "\n",
        "Dado el radio de un círculo. Haga un algoritmo que obtenga el área del círculo y la longitud de la circunferencia."
      ],
      "metadata": {
        "id": "Mx51ermvMhOA"
      }
    },
    {
      "cell_type": "code",
      "source": [
        "class Calculos:\n",
        "\n",
        "  def areaCirc(radio):\n",
        "    area = 3.1416 * (radio ** 2)\n",
        "    return area\n",
        "\n",
        "  def longCircunferencia(radio):\n",
        "    longitud = 2 * 3.1416 * radio\n",
        "    return longitud\n",
        "\n",
        "def formulas(radio):\n",
        "  area = Calculos.areaCirc(radio)\n",
        "  longitud = Calculos.longCircunferencia(radio)\n",
        "  print(\"El área del círculo es: \", area)\n",
        "  print(\"La longitud de la circunferencia es: \", longitud)\n",
        "\n",
        "radio = float(input(\"Inserte el radio del círculo: \", ))\n",
        "formulas(radio)"
      ],
      "metadata": {
        "id": "_2k24S2OMiSV",
        "colab": {
          "base_uri": "https://localhost:8080/"
        },
        "outputId": "0aee968e-796b-449f-f5cc-7d9e665b5505"
      },
      "execution_count": null,
      "outputs": [
        {
          "output_type": "stream",
          "name": "stdout",
          "text": [
            "Inserte el radio del círculo: 5\n",
            "El área del círculo es:  78.53999999999999\n",
            "La longitud de la circunferencia es:  31.416\n"
          ]
        }
      ]
    },
    {
      "cell_type": "code",
      "source": [],
      "metadata": {
        "id": "D2gM5T3mNycH"
      },
      "execution_count": null,
      "outputs": []
    }
  ]
}